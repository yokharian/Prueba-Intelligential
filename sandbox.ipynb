{
 "cells": [
  {
   "cell_type": "code",
   "execution_count": 1,
   "outputs": [
    {
     "name": "stdout",
     "output_type": "stream",
     "text": [
      "Requirement already satisfied: click in /home/drapaiton/.cache/pypoetry/virtualenvs/pythonproject-m1cdw567-py3.9/lib/python3.9/site-packages (8.0.1)\r\n",
      "Collecting sqlalchemy\r\n",
      "  Using cached SQLAlchemy-1.4.22-cp39-cp39-manylinux_2_5_x86_64.manylinux1_x86_64.manylinux_2_17_x86_64.manylinux2014_x86_64.whl (1.6 MB)\r\n",
      "Collecting greenlet!=0.4.17\r\n",
      "  Using cached greenlet-1.1.0-cp39-cp39-manylinux_2_17_x86_64.manylinux2014_x86_64.whl (162 kB)\r\n",
      "Installing collected packages: greenlet, sqlalchemy\r\n",
      "Successfully installed greenlet-1.1.0 sqlalchemy-1.4.22\r\n",
      "\u001B[33mWARNING: You are using pip version 21.1.2; however, version 21.2.2 is available.\r\n",
      "You should consider upgrading via the '/home/drapaiton/.cache/pypoetry/virtualenvs/pythonproject-m1cdw567-py3.9/bin/python -m pip install --upgrade pip' command.\u001B[0m\r\n"
     ]
    }
   ],
   "source": [
    "\"\"\"install dependencies\"\"\"\n",
    "!pip install click sqlalchemy"
   ],
   "metadata": {
    "collapsed": false,
    "pycharm": {
     "name": "#%%\n"
    }
   }
  },
  {
   "cell_type": "code",
   "execution_count": 45,
   "metadata": {
    "collapsed": true
   },
   "outputs": [
    {
     "name": "stdout",
     "output_type": "stream",
     "text": [
      "2021-08-05 22:09:57,466 INFO sqlalchemy.engine.Engine BEGIN (implicit)\n",
      "2021-08-05 22:09:57,469 INFO sqlalchemy.engine.Engine \n",
      "CREATE TABLE \"PAGO\" (\n",
      "\tid_pago INTEGER NOT NULL, \n",
      "\tid_contrato INTEGER NOT NULL, \n",
      "\tid_cliente INTEGER NOT NULL, \n",
      "\tfecha DATE NOT NULL, \n",
      "\tmonto FLOAT NOT NULL, \n",
      "\tfecha_registro DATE NOT NULL, \n",
      "\tactivo BOOLEAN NOT NULL, \n",
      "\tPRIMARY KEY (id_pago), \n",
      "\tCONSTRAINT \"is a natural number\" CHECK (typeof(id_contrato) = \"integer\" & id_contrato >= 0\n",
      "    & typeof(id_cliente) = \"integer\" & id_cliente >= 0\n",
      "    & typeof(id_pago) = \"integer\" & id_pago >= 0\n",
      "    & typeof(monto) = \"float\" & monto > 0)\n",
      ")\n",
      "\n",
      "\n",
      "2021-08-05 22:09:57,470 INFO sqlalchemy.engine.Engine [no key 0.00110s] ()\n",
      "2021-08-05 22:09:57,471 INFO sqlalchemy.engine.Engine COMMIT\n"
     ]
    }
   ],
   "source": [
    "\"\"\"create in-memory database\"\"\"\n",
    "from sqlalchemy import (Column, Integer, Boolean, Float, Date, insert, MetaData, Table, create_engine, CheckConstraint)\n",
    "\n",
    "engine = create_engine('sqlite://',echo=True) # in-memory database\n",
    "meta = MetaData()\n",
    "\n",
    "pago = Table('PAGO', meta,\n",
    "    Column('id_pago', Integer, primary_key=True, nullable=False),\n",
    "    Column('id_contrato', Integer,nullable=False),\n",
    "    Column('id_cliente', Integer,nullable=False),\n",
    "    CheckConstraint(\"\"\"typeof(id_contrato) = \"integer\" & id_contrato >= 0\n",
    "    & typeof(id_cliente) = \"integer\" & id_cliente >= 0\n",
    "    & typeof(id_pago) = \"integer\" & id_pago >= 0\n",
    "    & typeof(monto) = \"float\" & monto > 0\"\"\", name='is a natural number'),\n",
    "\n",
    "    Column('fecha', Date,nullable=False),\n",
    "    Column('monto', Float,nullable=False),\n",
    "    Column('fecha_registro', Date,nullable=False),\n",
    "    Column('activo', Boolean,nullable=False)\n",
    ").create(engine)"
   ]
  },
  {
   "cell_type": "code",
   "execution_count": 48,
   "outputs": [
    {
     "data": {
      "text/plain": "'ok'"
     },
     "execution_count": 48,
     "metadata": {},
     "output_type": "execute_result"
    }
   ],
   "source": [
    "from sqlalchemy.sql import Select\n",
    "\n",
    "\"\"\"define ORM functionality\"\"\"\n",
    "from typing import Optional\n",
    "from sqlalchemy.orm import Session,declarative_base\n",
    "from sqlalchemy import select,desc\n",
    "from datetime import datetime\n",
    "\n",
    "Base = declarative_base()\n",
    "\n",
    "\n",
    "class Pago(Base):\n",
    "    __tablename__: str = \"PAGO\"\n",
    "\n",
    "    # Identificador del pago\n",
    "    id_pago = Column(Integer, nullable=False, primary_key=True, autoincrement=True)\n",
    "    id_contrato = Column(Integer, nullable=False)  # Identificador del contrato\n",
    "    id_cliente = Column(Integer, nullable=False)  # Identificador del cliente\n",
    "    fecha = Column(Date, nullable=False, default=datetime.now())  # Fecha de pago\n",
    "    monto = Column(Float, nullable=False)  # Monto del pago\n",
    "    # true si el registro está vigente, false si el registro ya no es válido (eliminado lógico)\n",
    "    activo = Column(Boolean, default=True)\n",
    "    fecha_registro = Column(Date)  # Fecha de registro del pago\n",
    "\n",
    "    @classmethod\n",
    "    def select_latest_pagos(cls, id_contrato: int, id_cliente: int, activo=True)->Select:\n",
    "        return select(cls).where(\n",
    "                cls.id_contrato == id_contrato,\n",
    "                cls.id_cliente == id_cliente,\n",
    "                cls.activo == activo,\n",
    "            ).order_by(desc(cls.fecha))\n",
    "\n",
    "    @classmethod\n",
    "    def add_registry(cls, _session, pago_to_add):\n",
    "        \"\"\"related logic for specific constraint and business logic\n",
    "        05 august 2021.- Se pueden recibir pagos con fechas anteriores a los pagos ya registrados\n",
    "        de un contrato, es decir, si ya existen N pagos con fechas F0,...,FN\n",
    "        en la tabla de pagos y se recibe un pago con fecha F' donde\n",
    "        F' < {Fk,...,Fm} (F' es anterior a 1 o varios pagos de un contrato),\n",
    "        se desactivarán todos los pagos del contrato posteriores a F',\n",
    "        se insertará el nuevo pago con fecha F' y se insertarán nuevos registros\n",
    "        para los pagos que ya existían (posteriores a F'), de tal manera que\n",
    "        para todos los pagos de un mismo contrato si Fi < Fj\n",
    "        entonces id_pago[i] < id_pago[j]\"\"\"\n",
    "\n",
    "        LATEST_PAGO_STM = cls.select_latest_pagos(\n",
    "            id_contrato=pago_to_add.id_contrato, id_cliente=pago_to_add.id_cliente\n",
    "        ).limit(1)\n",
    "        latest_pago: Optional[cls] = _session.execute(LATEST_PAGO_STM).fetchone()\n",
    "\n",
    "        if latest_pago is None: # no related info found\n",
    "            _session.execute(insert(pago_to_add))\n",
    "        else: # info found\n",
    "            if latest_pago.fecha > pago_to_add.fecha:\n",
    "                _session.execute(insert(pago_to_add))\n",
    "            else:\n",
    "                # cambiar ids consecutivos\n",
    "                ...\n",
    "\n",
    "\"ok\""
   ],
   "metadata": {
    "collapsed": false,
    "pycharm": {
     "name": "#%%\n"
    }
   }
  },
  {
   "cell_type": "code",
   "execution_count": 44,
   "outputs": [
    {
     "name": "stdout",
     "output_type": "stream",
     "text": [
      "2021-08-05 22:08:20,360 INFO sqlalchemy.engine.Engine BEGIN (implicit)\n",
      "2021-08-05 22:08:20,365 INFO sqlalchemy.engine.Engine SELECT \"PAGO\".id_pago, \"PAGO\".id_contrato, \"PAGO\".id_cliente, \"PAGO\".fecha, \"PAGO\".monto, \"PAGO\".activo, \"PAGO\".fecha_registro \n",
      "FROM \"PAGO\" \n",
      "WHERE \"PAGO\".id_contrato = ? AND \"PAGO\".id_cliente = ? AND \"PAGO\".activo = 1 ORDER BY \"PAGO\".fecha DESC\n",
      " LIMIT ? OFFSET ?\n",
      "2021-08-05 22:08:20,366 INFO sqlalchemy.engine.Engine [generated in 0.00126s] (12, 99, 1, 0)\n",
      "2021-08-05 22:08:20,368 INFO sqlalchemy.engine.Engine ROLLBACK\n"
     ]
    }
   ],
   "source": [
    "\"\"\"a. Escribir una función en Python que reciba como parámetro los datos de un pago e inserte el pago en la tabla considerando la regla 2 anterior.\"\"\"\n",
    "\n",
    "PAGOS_TO_INSERT = [\n",
    "    Pago(id_contrato=12,id_cliente=99,fecha=datetime(2021,8,5),monto=49)\n",
    "]\n",
    "\n",
    "if __name__ == '__main__':\n",
    "    with Session(engine) as session:\n",
    "        for _pago in PAGOS_TO_INSERT:\n",
    "            Pago.add_registry(session, _pago)"
   ],
   "metadata": {
    "collapsed": false,
    "pycharm": {
     "name": "#%%\n"
    }
   }
  },
  {
   "cell_type": "code",
   "execution_count": 136,
   "outputs": [
    {
     "data": {
      "text/plain": "'b. Habilitar interfaz de cualquier tipo (web, terminal, etc.) para interactuar con la función descrita en el punto anterior'"
     },
     "execution_count": 136,
     "metadata": {},
     "output_type": "execute_result"
    }
   ],
   "source": [
    "\"\"\"b. Habilitar interfaz de cualquier tipo (web, terminal, etc.) para interactuar con la función descrita en el punto anterior\"\"\"\n",
    "# el archivo fue llamado main.py\n",
    "\"\"\"c. Usar sqlalchemy para modelar la tabla e interactuar con ella (insert, update, select, etc.).\"\"\"\n",
    "# hecho\n",
    "\"\"\"d. Estructura el código de tal manera que sea modular\"\"\"\n",
    "# hecho\n",
    "\"\"\"e. Agrega validaciones y manejo de errores, debe ser a prueba de todo.\"\"\"\n",
    "# hecho\n"
   ],
   "metadata": {
    "collapsed": false,
    "pycharm": {
     "name": "#%%\n"
    }
   }
  }
 ],
 "metadata": {
  "kernelspec": {
   "display_name": "Python 3",
   "language": "python",
   "name": "python3"
  },
  "language_info": {
   "codemirror_mode": {
    "name": "ipython",
    "version": 2
   },
   "file_extension": ".py",
   "mimetype": "text/x-python",
   "name": "python",
   "nbconvert_exporter": "python",
   "pygments_lexer": "ipython2",
   "version": "2.7.6"
  }
 },
 "nbformat": 4,
 "nbformat_minor": 0
}