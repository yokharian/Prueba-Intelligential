{
 "cells": [
  {
   "cell_type": "code",
   "execution_count": 1,
   "outputs": [
    {
     "name": "stdout",
     "output_type": "stream",
     "text": [
      "Requirement already satisfied: click in /home/drapaiton/.cache/pypoetry/virtualenvs/pythonproject-m1cdw567-py3.9/lib/python3.9/site-packages (8.0.1)\r\n",
      "Collecting sqlalchemy\r\n",
      "  Using cached SQLAlchemy-1.4.22-cp39-cp39-manylinux_2_5_x86_64.manylinux1_x86_64.manylinux_2_17_x86_64.manylinux2014_x86_64.whl (1.6 MB)\r\n",
      "Collecting greenlet!=0.4.17\r\n",
      "  Using cached greenlet-1.1.0-cp39-cp39-manylinux_2_17_x86_64.manylinux2014_x86_64.whl (162 kB)\r\n",
      "Installing collected packages: greenlet, sqlalchemy\r\n",
      "Successfully installed greenlet-1.1.0 sqlalchemy-1.4.22\r\n",
      "\u001B[33mWARNING: You are using pip version 21.1.2; however, version 21.2.2 is available.\r\n",
      "You should consider upgrading via the '/home/drapaiton/.cache/pypoetry/virtualenvs/pythonproject-m1cdw567-py3.9/bin/python -m pip install --upgrade pip' command.\u001B[0m\r\n"
     ]
    }
   ],
   "source": [
    "\"\"\"install dependencies\"\"\"\n",
    "!pip install sqlalchemy\n",
    "# for use in main.py\n",
    "!pip install click"
   ],
   "metadata": {
    "collapsed": false,
    "pycharm": {
     "name": "#%%\n"
    }
   }
  },
  {
   "cell_type": "code",
   "execution_count": 47,
   "metadata": {
    "collapsed": true
   },
   "outputs": [],
   "source": [
    "\"\"\"create in-memory database\"\"\"\n",
    "from sqlalchemy import (Column, Integer, Boolean, Float, DateTime, MetaData, Table, create_engine, CheckConstraint)\n",
    "\n",
    "engine = create_engine('sqlite://', echo=False) # in-memory database\n",
    "meta = MetaData()\n",
    "\n",
    "pago = Table('PAGO', meta,\n",
    "    Column('id_pago', Integer, primary_key=True, nullable=False),\n",
    "    Column('id_contrato', Integer,nullable=False),\n",
    "    Column('id_cliente', Integer,nullable=False),\n",
    "    CheckConstraint(\"\"\"typeof(id_contrato) = \"integer\" & id_contrato >= 0\n",
    "    & typeof(id_cliente) = \"integer\" & id_cliente >= 0\n",
    "    & typeof(id_pago) = \"integer\" & id_pago >= 0\n",
    "    & typeof(monto) = \"float\" & monto > 0\"\"\", name='is a natural number'),\n",
    "\n",
    "    Column('fecha', DateTime,nullable=False),\n",
    "    Column('monto', Float,nullable=False),\n",
    "    Column('fecha_registro', DateTime,nullable=False),\n",
    "    Column('activo', Boolean,nullable=False)\n",
    ").create(engine)"
   ]
  },
  {
   "cell_type": "code",
   "execution_count": 49,
   "outputs": [
    {
     "data": {
      "text/plain": "'ok'"
     },
     "execution_count": 49,
     "metadata": {},
     "output_type": "execute_result"
    }
   ],
   "source": [
    "\"\"\"define ORM functionality\"\"\"\n",
    "\n",
    "from typing import Optional\n",
    "from sqlalchemy.sql import Update,Select\n",
    "from sqlalchemy.orm import Session,declarative_base\n",
    "from sqlalchemy import select,desc,update\n",
    "from datetime import datetime\n",
    "\n",
    "Base = declarative_base()\n",
    "DATE_FORMAT = '%d-%m-%Y'\n",
    "\n",
    "class Pago(Base):\n",
    "    __tablename__: str = \"PAGO\"\n",
    "\n",
    "    # Identificador del pago\n",
    "    id_pago = Column(Integer, nullable=False, primary_key=True, autoincrement=True)\n",
    "\n",
    "    id_contrato = Column(Integer, nullable=False)  # Identificador del contrato\n",
    "    id_cliente = Column(Integer, nullable=False)  # Identificador del cliente\n",
    "    fecha = Column(DateTime, nullable=False)  # Fecha de pago\n",
    "    monto = Column(Float, nullable=False)  # Monto del pago\n",
    "    # true si el registro está vigente, false si el registro ya no es válido (eliminado lógico)\n",
    "    activo = Column(Boolean, default=True)\n",
    "    fecha_registro = Column(DateTime, default=datetime.now())  # Fecha de registro del pago\n",
    "\n",
    "    @classmethod\n",
    "    def select_latest_pagos(cls, id_contrato: int, id_cliente: int, activo=True)->Select:\n",
    "        return select(cls).where(\n",
    "                cls.id_contrato == id_contrato,\n",
    "                cls.id_cliente == id_cliente,\n",
    "                cls.activo == activo,\n",
    "            ).order_by(desc(cls.fecha))\n",
    "\n",
    "    @classmethod\n",
    "    def replace_consecutive_ids(cls, starting_id_pago:int, id_contrato: int) -> Update:\n",
    "        \"\"\"replace consecutive ids found, i.e rows with (id_pago > starting_id_pago)\"\"\"\n",
    "        return update(cls).where(\n",
    "                cls.id_pago > starting_id_pago,\n",
    "                cls.id_contrato == id_contrato,\n",
    "                cls.activo).values(id_pago=cls.id_pago + 1)\n",
    "\n",
    "    @classmethod\n",
    "    def add_registry(cls, _session, pago_to_add):\n",
    "        \"\"\"related logic for specific constraint and business logic\n",
    "        05 august 2021.- Se pueden recibir pagos con fechas anteriores a los pagos ya registrados\n",
    "        de un contrato, es decir, si ya existen N pagos con fechas F0,...,FN\n",
    "        en la tabla de pagos y se recibe un pago con fecha F' donde\n",
    "        F' < {Fk,...,Fm} (F' es anterior a 1 o varios pagos de un contrato),\n",
    "        se desactivarán todos los pagos del contrato posteriores a F',\n",
    "        se insertará el nuevo pago con fecha F' y se insertarán nuevos registros\n",
    "        para los pagos que ya existían (posteriores a F'), de tal manera que\n",
    "        para todos los pagos de un mismo contrato si Fi < Fj\n",
    "        entonces id_pago[i] < id_pago[j]\"\"\"\n",
    "\n",
    "        ID_CONTRATO = pago_to_add.id_contrato\n",
    "\n",
    "        LATEST_PAGO_STM = cls.select_latest_pagos(\n",
    "            id_contrato=pago_to_add.id_contrato, id_cliente=pago_to_add.id_cliente\n",
    "        ).limit(1)\n",
    "        # https://docs.sqlalchemy.org/en/14/core/connections.html#sqlalchemy.engine.Result.scalars\n",
    "        latest_pago: Optional[cls] = _session.execute(LATEST_PAGO_STM).scalars().first()\n",
    "\n",
    "        if latest_pago is None: # no related info found\n",
    "            _session.add(pago_to_add)\n",
    "        else: # info found\n",
    "            if pago_to_add.fecha > latest_pago.fecha:\n",
    "                _session.add(pago_to_add)\n",
    "            else:\n",
    "                UPDATE_STM = cls.replace_consecutive_ids(pago_to_add. id_pago,ID_CONTRATO)\n",
    "                _session.execute(UPDATE_STM)\n",
    "\n",
    "    def __repr__(self):\n",
    "        fecha,id_contrato,monto = self.fecha.strftime(DATE_FORMAT),self.id_contrato,self.monto\n",
    "        return f\"Pago con {fecha=}, {id_contrato=}, {monto=}\"\n",
    "\n",
    "\"ok\""
   ],
   "metadata": {
    "collapsed": false,
    "pycharm": {
     "name": "#%%\n"
    }
   }
  },
  {
   "cell_type": "code",
   "execution_count": 50,
   "outputs": [
    {
     "ename": "ArgumentError",
     "evalue": "Only '=', '!=', 'is_()', 'is_not()', 'is_distinct_from()', 'is_not_distinct_from()' operators can be used with None/True/False",
     "output_type": "error",
     "traceback": [
      "\u001B[0;31m---------------------------------------------------------------------------\u001B[0m",
      "\u001B[0;31mArgumentError\u001B[0m                             Traceback (most recent call last)",
      "\u001B[0;32m/tmp/ipykernel_99293/4090690654.py\u001B[0m in \u001B[0;36m<module>\u001B[0;34m\u001B[0m\n\u001B[1;32m     15\u001B[0m \u001B[0;34m\u001B[0m\u001B[0m\n\u001B[1;32m     16\u001B[0m         \u001B[0;32mfor\u001B[0m \u001B[0m_pago\u001B[0m \u001B[0;32min\u001B[0m \u001B[0mPAGOS_TO_INSERT\u001B[0m\u001B[0;34m:\u001B[0m\u001B[0;34m\u001B[0m\u001B[0;34m\u001B[0m\u001B[0m\n\u001B[0;32m---> 17\u001B[0;31m             \u001B[0mPago\u001B[0m\u001B[0;34m.\u001B[0m\u001B[0madd_registry\u001B[0m\u001B[0;34m(\u001B[0m\u001B[0msession\u001B[0m\u001B[0;34m,\u001B[0m \u001B[0m_pago\u001B[0m\u001B[0;34m)\u001B[0m\u001B[0;34m\u001B[0m\u001B[0;34m\u001B[0m\u001B[0m\n\u001B[0m\u001B[1;32m     18\u001B[0m             \u001B[0msession\u001B[0m\u001B[0;34m.\u001B[0m\u001B[0mcommit\u001B[0m\u001B[0;34m(\u001B[0m\u001B[0;34m)\u001B[0m\u001B[0;34m\u001B[0m\u001B[0;34m\u001B[0m\u001B[0m\n\u001B[1;32m     19\u001B[0m \u001B[0;34m\u001B[0m\u001B[0m\n",
      "\u001B[0;32m/tmp/ipykernel_99293/3021367324.py\u001B[0m in \u001B[0;36madd_registry\u001B[0;34m(cls, _session, pago_to_add)\u001B[0m\n\u001B[1;32m     67\u001B[0m                 \u001B[0m_session\u001B[0m\u001B[0;34m.\u001B[0m\u001B[0madd\u001B[0m\u001B[0;34m(\u001B[0m\u001B[0mpago_to_add\u001B[0m\u001B[0;34m)\u001B[0m\u001B[0;34m\u001B[0m\u001B[0;34m\u001B[0m\u001B[0m\n\u001B[1;32m     68\u001B[0m             \u001B[0;32melse\u001B[0m\u001B[0;34m:\u001B[0m\u001B[0;34m\u001B[0m\u001B[0;34m\u001B[0m\u001B[0m\n\u001B[0;32m---> 69\u001B[0;31m                 \u001B[0mUPDATE_STM\u001B[0m \u001B[0;34m=\u001B[0m \u001B[0mcls\u001B[0m\u001B[0;34m.\u001B[0m\u001B[0mreplace_consecutive_ids\u001B[0m\u001B[0;34m(\u001B[0m\u001B[0mpago_to_add\u001B[0m\u001B[0;34m.\u001B[0m \u001B[0mid_pago\u001B[0m\u001B[0;34m,\u001B[0m\u001B[0mID_CONTRATO\u001B[0m\u001B[0;34m)\u001B[0m\u001B[0;34m\u001B[0m\u001B[0;34m\u001B[0m\u001B[0m\n\u001B[0m\u001B[1;32m     70\u001B[0m                 \u001B[0m_session\u001B[0m\u001B[0;34m.\u001B[0m\u001B[0mexecute\u001B[0m\u001B[0;34m(\u001B[0m\u001B[0mUPDATE_STM\u001B[0m\u001B[0;34m)\u001B[0m\u001B[0;34m\u001B[0m\u001B[0;34m\u001B[0m\u001B[0m\n\u001B[1;32m     71\u001B[0m \u001B[0;34m\u001B[0m\u001B[0m\n",
      "\u001B[0;32m/tmp/ipykernel_99293/3021367324.py\u001B[0m in \u001B[0;36mreplace_consecutive_ids\u001B[0;34m(cls, starting_id_pago, id_contrato)\u001B[0m\n\u001B[1;32m     36\u001B[0m         \u001B[0;34m\"\"\"replace consecutive ids found, i.e rows with (id_pago > starting_id_pago)\"\"\"\u001B[0m\u001B[0;34m\u001B[0m\u001B[0;34m\u001B[0m\u001B[0m\n\u001B[1;32m     37\u001B[0m         return update(cls).where(\n\u001B[0;32m---> 38\u001B[0;31m                 \u001B[0mcls\u001B[0m\u001B[0;34m.\u001B[0m\u001B[0mid_pago\u001B[0m \u001B[0;34m>\u001B[0m \u001B[0mstarting_id_pago\u001B[0m\u001B[0;34m,\u001B[0m\u001B[0;34m\u001B[0m\u001B[0;34m\u001B[0m\u001B[0m\n\u001B[0m\u001B[1;32m     39\u001B[0m                 \u001B[0mcls\u001B[0m\u001B[0;34m.\u001B[0m\u001B[0mid_contrato\u001B[0m \u001B[0;34m==\u001B[0m \u001B[0mid_contrato\u001B[0m\u001B[0;34m,\u001B[0m\u001B[0;34m\u001B[0m\u001B[0;34m\u001B[0m\u001B[0m\n\u001B[1;32m     40\u001B[0m                 cls.activo).values(id_pago=cls.id_pago + 1)\n",
      "\u001B[0;32m~/.cache/pypoetry/virtualenvs/pythonproject-m1cdw567-py3.9/lib/python3.9/site-packages/sqlalchemy/sql/operators.py\u001B[0m in \u001B[0;36m__gt__\u001B[0;34m(self, other)\u001B[0m\n\u001B[1;32m    404\u001B[0m \u001B[0;34m\u001B[0m\u001B[0m\n\u001B[1;32m    405\u001B[0m         \"\"\"\n\u001B[0;32m--> 406\u001B[0;31m         \u001B[0;32mreturn\u001B[0m \u001B[0mself\u001B[0m\u001B[0;34m.\u001B[0m\u001B[0moperate\u001B[0m\u001B[0;34m(\u001B[0m\u001B[0mgt\u001B[0m\u001B[0;34m,\u001B[0m \u001B[0mother\u001B[0m\u001B[0;34m)\u001B[0m\u001B[0;34m\u001B[0m\u001B[0;34m\u001B[0m\u001B[0m\n\u001B[0m\u001B[1;32m    407\u001B[0m \u001B[0;34m\u001B[0m\u001B[0m\n\u001B[1;32m    408\u001B[0m     \u001B[0;32mdef\u001B[0m \u001B[0m__ge__\u001B[0m\u001B[0;34m(\u001B[0m\u001B[0mself\u001B[0m\u001B[0;34m,\u001B[0m \u001B[0mother\u001B[0m\u001B[0;34m)\u001B[0m\u001B[0;34m:\u001B[0m\u001B[0;34m\u001B[0m\u001B[0;34m\u001B[0m\u001B[0m\n",
      "\u001B[0;32m~/.cache/pypoetry/virtualenvs/pythonproject-m1cdw567-py3.9/lib/python3.9/site-packages/sqlalchemy/orm/attributes.py\u001B[0m in \u001B[0;36moperate\u001B[0;34m(self, op, *other, **kwargs)\u001B[0m\n\u001B[1;32m    315\u001B[0m \u001B[0;34m\u001B[0m\u001B[0m\n\u001B[1;32m    316\u001B[0m     \u001B[0;32mdef\u001B[0m \u001B[0moperate\u001B[0m\u001B[0;34m(\u001B[0m\u001B[0mself\u001B[0m\u001B[0;34m,\u001B[0m \u001B[0mop\u001B[0m\u001B[0;34m,\u001B[0m \u001B[0;34m*\u001B[0m\u001B[0mother\u001B[0m\u001B[0;34m,\u001B[0m \u001B[0;34m**\u001B[0m\u001B[0mkwargs\u001B[0m\u001B[0;34m)\u001B[0m\u001B[0;34m:\u001B[0m\u001B[0;34m\u001B[0m\u001B[0;34m\u001B[0m\u001B[0m\n\u001B[0;32m--> 317\u001B[0;31m         \u001B[0;32mreturn\u001B[0m \u001B[0mop\u001B[0m\u001B[0;34m(\u001B[0m\u001B[0mself\u001B[0m\u001B[0;34m.\u001B[0m\u001B[0mcomparator\u001B[0m\u001B[0;34m,\u001B[0m \u001B[0;34m*\u001B[0m\u001B[0mother\u001B[0m\u001B[0;34m,\u001B[0m \u001B[0;34m**\u001B[0m\u001B[0mkwargs\u001B[0m\u001B[0;34m)\u001B[0m\u001B[0;34m\u001B[0m\u001B[0;34m\u001B[0m\u001B[0m\n\u001B[0m\u001B[1;32m    318\u001B[0m \u001B[0;34m\u001B[0m\u001B[0m\n\u001B[1;32m    319\u001B[0m     \u001B[0;32mdef\u001B[0m \u001B[0mreverse_operate\u001B[0m\u001B[0;34m(\u001B[0m\u001B[0mself\u001B[0m\u001B[0;34m,\u001B[0m \u001B[0mop\u001B[0m\u001B[0;34m,\u001B[0m \u001B[0mother\u001B[0m\u001B[0;34m,\u001B[0m \u001B[0;34m**\u001B[0m\u001B[0mkwargs\u001B[0m\u001B[0;34m)\u001B[0m\u001B[0;34m:\u001B[0m\u001B[0;34m\u001B[0m\u001B[0;34m\u001B[0m\u001B[0m\n",
      "\u001B[0;32m~/.cache/pypoetry/virtualenvs/pythonproject-m1cdw567-py3.9/lib/python3.9/site-packages/sqlalchemy/sql/operators.py\u001B[0m in \u001B[0;36m__gt__\u001B[0;34m(self, other)\u001B[0m\n\u001B[1;32m    404\u001B[0m \u001B[0;34m\u001B[0m\u001B[0m\n\u001B[1;32m    405\u001B[0m         \"\"\"\n\u001B[0;32m--> 406\u001B[0;31m         \u001B[0;32mreturn\u001B[0m \u001B[0mself\u001B[0m\u001B[0;34m.\u001B[0m\u001B[0moperate\u001B[0m\u001B[0;34m(\u001B[0m\u001B[0mgt\u001B[0m\u001B[0;34m,\u001B[0m \u001B[0mother\u001B[0m\u001B[0;34m)\u001B[0m\u001B[0;34m\u001B[0m\u001B[0;34m\u001B[0m\u001B[0m\n\u001B[0m\u001B[1;32m    407\u001B[0m \u001B[0;34m\u001B[0m\u001B[0m\n\u001B[1;32m    408\u001B[0m     \u001B[0;32mdef\u001B[0m \u001B[0m__ge__\u001B[0m\u001B[0;34m(\u001B[0m\u001B[0mself\u001B[0m\u001B[0;34m,\u001B[0m \u001B[0mother\u001B[0m\u001B[0;34m)\u001B[0m\u001B[0;34m:\u001B[0m\u001B[0;34m\u001B[0m\u001B[0;34m\u001B[0m\u001B[0m\n",
      "\u001B[0;32m~/.cache/pypoetry/virtualenvs/pythonproject-m1cdw567-py3.9/lib/python3.9/site-packages/sqlalchemy/orm/properties.py\u001B[0m in \u001B[0;36moperate\u001B[0;34m(self, op, *other, **kwargs)\u001B[0m\n\u001B[1;32m    428\u001B[0m \u001B[0;34m\u001B[0m\u001B[0m\n\u001B[1;32m    429\u001B[0m         \u001B[0;32mdef\u001B[0m \u001B[0moperate\u001B[0m\u001B[0;34m(\u001B[0m\u001B[0mself\u001B[0m\u001B[0;34m,\u001B[0m \u001B[0mop\u001B[0m\u001B[0;34m,\u001B[0m \u001B[0;34m*\u001B[0m\u001B[0mother\u001B[0m\u001B[0;34m,\u001B[0m \u001B[0;34m**\u001B[0m\u001B[0mkwargs\u001B[0m\u001B[0;34m)\u001B[0m\u001B[0;34m:\u001B[0m\u001B[0;34m\u001B[0m\u001B[0;34m\u001B[0m\u001B[0m\n\u001B[0;32m--> 430\u001B[0;31m             \u001B[0;32mreturn\u001B[0m \u001B[0mop\u001B[0m\u001B[0;34m(\u001B[0m\u001B[0mself\u001B[0m\u001B[0;34m.\u001B[0m\u001B[0m__clause_element__\u001B[0m\u001B[0;34m(\u001B[0m\u001B[0;34m)\u001B[0m\u001B[0;34m,\u001B[0m \u001B[0;34m*\u001B[0m\u001B[0mother\u001B[0m\u001B[0;34m,\u001B[0m \u001B[0;34m**\u001B[0m\u001B[0mkwargs\u001B[0m\u001B[0;34m)\u001B[0m\u001B[0;34m\u001B[0m\u001B[0;34m\u001B[0m\u001B[0m\n\u001B[0m\u001B[1;32m    431\u001B[0m \u001B[0;34m\u001B[0m\u001B[0m\n\u001B[1;32m    432\u001B[0m         \u001B[0;32mdef\u001B[0m \u001B[0mreverse_operate\u001B[0m\u001B[0;34m(\u001B[0m\u001B[0mself\u001B[0m\u001B[0;34m,\u001B[0m \u001B[0mop\u001B[0m\u001B[0;34m,\u001B[0m \u001B[0mother\u001B[0m\u001B[0;34m,\u001B[0m \u001B[0;34m**\u001B[0m\u001B[0mkwargs\u001B[0m\u001B[0;34m)\u001B[0m\u001B[0;34m:\u001B[0m\u001B[0;34m\u001B[0m\u001B[0;34m\u001B[0m\u001B[0m\n",
      "\u001B[0;32m~/.cache/pypoetry/virtualenvs/pythonproject-m1cdw567-py3.9/lib/python3.9/site-packages/sqlalchemy/sql/operators.py\u001B[0m in \u001B[0;36m__gt__\u001B[0;34m(self, other)\u001B[0m\n\u001B[1;32m    404\u001B[0m \u001B[0;34m\u001B[0m\u001B[0m\n\u001B[1;32m    405\u001B[0m         \"\"\"\n\u001B[0;32m--> 406\u001B[0;31m         \u001B[0;32mreturn\u001B[0m \u001B[0mself\u001B[0m\u001B[0;34m.\u001B[0m\u001B[0moperate\u001B[0m\u001B[0;34m(\u001B[0m\u001B[0mgt\u001B[0m\u001B[0;34m,\u001B[0m \u001B[0mother\u001B[0m\u001B[0;34m)\u001B[0m\u001B[0;34m\u001B[0m\u001B[0;34m\u001B[0m\u001B[0m\n\u001B[0m\u001B[1;32m    407\u001B[0m \u001B[0;34m\u001B[0m\u001B[0m\n\u001B[1;32m    408\u001B[0m     \u001B[0;32mdef\u001B[0m \u001B[0m__ge__\u001B[0m\u001B[0;34m(\u001B[0m\u001B[0mself\u001B[0m\u001B[0;34m,\u001B[0m \u001B[0mother\u001B[0m\u001B[0;34m)\u001B[0m\u001B[0;34m:\u001B[0m\u001B[0;34m\u001B[0m\u001B[0;34m\u001B[0m\u001B[0m\n",
      "\u001B[0;32m~/.cache/pypoetry/virtualenvs/pythonproject-m1cdw567-py3.9/lib/python3.9/site-packages/sqlalchemy/sql/elements.py\u001B[0m in \u001B[0;36moperate\u001B[0;34m(self, op, *other, **kwargs)\u001B[0m\n\u001B[1;32m    863\u001B[0m \u001B[0;34m\u001B[0m\u001B[0m\n\u001B[1;32m    864\u001B[0m     \u001B[0;32mdef\u001B[0m \u001B[0moperate\u001B[0m\u001B[0;34m(\u001B[0m\u001B[0mself\u001B[0m\u001B[0;34m,\u001B[0m \u001B[0mop\u001B[0m\u001B[0;34m,\u001B[0m \u001B[0;34m*\u001B[0m\u001B[0mother\u001B[0m\u001B[0;34m,\u001B[0m \u001B[0;34m**\u001B[0m\u001B[0mkwargs\u001B[0m\u001B[0;34m)\u001B[0m\u001B[0;34m:\u001B[0m\u001B[0;34m\u001B[0m\u001B[0;34m\u001B[0m\u001B[0m\n\u001B[0;32m--> 865\u001B[0;31m         \u001B[0;32mreturn\u001B[0m \u001B[0mop\u001B[0m\u001B[0;34m(\u001B[0m\u001B[0mself\u001B[0m\u001B[0;34m.\u001B[0m\u001B[0mcomparator\u001B[0m\u001B[0;34m,\u001B[0m \u001B[0;34m*\u001B[0m\u001B[0mother\u001B[0m\u001B[0;34m,\u001B[0m \u001B[0;34m**\u001B[0m\u001B[0mkwargs\u001B[0m\u001B[0;34m)\u001B[0m\u001B[0;34m\u001B[0m\u001B[0;34m\u001B[0m\u001B[0m\n\u001B[0m\u001B[1;32m    866\u001B[0m \u001B[0;34m\u001B[0m\u001B[0m\n\u001B[1;32m    867\u001B[0m     \u001B[0;32mdef\u001B[0m \u001B[0mreverse_operate\u001B[0m\u001B[0;34m(\u001B[0m\u001B[0mself\u001B[0m\u001B[0;34m,\u001B[0m \u001B[0mop\u001B[0m\u001B[0;34m,\u001B[0m \u001B[0mother\u001B[0m\u001B[0;34m,\u001B[0m \u001B[0;34m**\u001B[0m\u001B[0mkwargs\u001B[0m\u001B[0;34m)\u001B[0m\u001B[0;34m:\u001B[0m\u001B[0;34m\u001B[0m\u001B[0;34m\u001B[0m\u001B[0m\n",
      "\u001B[0;32m~/.cache/pypoetry/virtualenvs/pythonproject-m1cdw567-py3.9/lib/python3.9/site-packages/sqlalchemy/sql/operators.py\u001B[0m in \u001B[0;36m__gt__\u001B[0;34m(self, other)\u001B[0m\n\u001B[1;32m    404\u001B[0m \u001B[0;34m\u001B[0m\u001B[0m\n\u001B[1;32m    405\u001B[0m         \"\"\"\n\u001B[0;32m--> 406\u001B[0;31m         \u001B[0;32mreturn\u001B[0m \u001B[0mself\u001B[0m\u001B[0;34m.\u001B[0m\u001B[0moperate\u001B[0m\u001B[0;34m(\u001B[0m\u001B[0mgt\u001B[0m\u001B[0;34m,\u001B[0m \u001B[0mother\u001B[0m\u001B[0;34m)\u001B[0m\u001B[0;34m\u001B[0m\u001B[0;34m\u001B[0m\u001B[0m\n\u001B[0m\u001B[1;32m    407\u001B[0m \u001B[0;34m\u001B[0m\u001B[0m\n\u001B[1;32m    408\u001B[0m     \u001B[0;32mdef\u001B[0m \u001B[0m__ge__\u001B[0m\u001B[0;34m(\u001B[0m\u001B[0mself\u001B[0m\u001B[0;34m,\u001B[0m \u001B[0mother\u001B[0m\u001B[0;34m)\u001B[0m\u001B[0;34m:\u001B[0m\u001B[0;34m\u001B[0m\u001B[0;34m\u001B[0m\u001B[0m\n",
      "\u001B[0;32m~/.cache/pypoetry/virtualenvs/pythonproject-m1cdw567-py3.9/lib/python3.9/site-packages/sqlalchemy/sql/type_api.py\u001B[0m in \u001B[0;36moperate\u001B[0;34m(self, op, *other, **kwargs)\u001B[0m\n\u001B[1;32m     74\u001B[0m             \u001B[0mdefault_comparator\u001B[0m \u001B[0;34m=\u001B[0m \u001B[0mutil\u001B[0m\u001B[0;34m.\u001B[0m\u001B[0mpreloaded\u001B[0m\u001B[0;34m.\u001B[0m\u001B[0msql_default_comparator\u001B[0m\u001B[0;34m\u001B[0m\u001B[0;34m\u001B[0m\u001B[0m\n\u001B[1;32m     75\u001B[0m             \u001B[0mo\u001B[0m \u001B[0;34m=\u001B[0m \u001B[0mdefault_comparator\u001B[0m\u001B[0;34m.\u001B[0m\u001B[0moperator_lookup\u001B[0m\u001B[0;34m[\u001B[0m\u001B[0mop\u001B[0m\u001B[0;34m.\u001B[0m\u001B[0m__name__\u001B[0m\u001B[0;34m]\u001B[0m\u001B[0;34m\u001B[0m\u001B[0;34m\u001B[0m\u001B[0m\n\u001B[0;32m---> 76\u001B[0;31m             \u001B[0;32mreturn\u001B[0m \u001B[0mo\u001B[0m\u001B[0;34m[\u001B[0m\u001B[0;36m0\u001B[0m\u001B[0;34m]\u001B[0m\u001B[0;34m(\u001B[0m\u001B[0mself\u001B[0m\u001B[0;34m.\u001B[0m\u001B[0mexpr\u001B[0m\u001B[0;34m,\u001B[0m \u001B[0mop\u001B[0m\u001B[0;34m,\u001B[0m \u001B[0;34m*\u001B[0m\u001B[0;34m(\u001B[0m\u001B[0mother\u001B[0m \u001B[0;34m+\u001B[0m \u001B[0mo\u001B[0m\u001B[0;34m[\u001B[0m\u001B[0;36m1\u001B[0m\u001B[0;34m:\u001B[0m\u001B[0;34m]\u001B[0m\u001B[0;34m)\u001B[0m\u001B[0;34m,\u001B[0m \u001B[0;34m**\u001B[0m\u001B[0mkwargs\u001B[0m\u001B[0;34m)\u001B[0m\u001B[0;34m\u001B[0m\u001B[0;34m\u001B[0m\u001B[0m\n\u001B[0m\u001B[1;32m     77\u001B[0m \u001B[0;34m\u001B[0m\u001B[0m\n\u001B[1;32m     78\u001B[0m         \u001B[0;34m@\u001B[0m\u001B[0mutil\u001B[0m\u001B[0;34m.\u001B[0m\u001B[0mpreload_module\u001B[0m\u001B[0;34m(\u001B[0m\u001B[0;34m\"sqlalchemy.sql.default_comparator\"\u001B[0m\u001B[0;34m)\u001B[0m\u001B[0;34m\u001B[0m\u001B[0;34m\u001B[0m\u001B[0m\n",
      "\u001B[0;32m~/.cache/pypoetry/virtualenvs/pythonproject-m1cdw567-py3.9/lib/python3.9/site-packages/sqlalchemy/sql/default_comparator.py\u001B[0m in \u001B[0;36m_boolean_compare\u001B[0;34m(expr, op, obj, negate, reverse, _python_is_types, result_type, **kwargs)\u001B[0m\n\u001B[1;32m     89\u001B[0m                 )\n\u001B[1;32m     90\u001B[0m             \u001B[0;32melse\u001B[0m\u001B[0;34m:\u001B[0m\u001B[0;34m\u001B[0m\u001B[0;34m\u001B[0m\u001B[0m\n\u001B[0;32m---> 91\u001B[0;31m                 raise exc.ArgumentError(\n\u001B[0m\u001B[1;32m     92\u001B[0m                     \u001B[0;34m\"Only '=', '!=', 'is_()', 'is_not()', \"\u001B[0m\u001B[0;34m\u001B[0m\u001B[0;34m\u001B[0m\u001B[0m\n\u001B[1;32m     93\u001B[0m                     \u001B[0;34m\"'is_distinct_from()', 'is_not_distinct_from()' \"\u001B[0m\u001B[0;34m\u001B[0m\u001B[0;34m\u001B[0m\u001B[0m\n",
      "\u001B[0;31mArgumentError\u001B[0m: Only '=', '!=', 'is_()', 'is_not()', 'is_distinct_from()', 'is_not_distinct_from()' operators can be used with None/True/False"
     ]
    }
   ],
   "source": [
    "\"\"\"a. Escribir una función en Python que reciba como parámetro los datos de un pago e inserte el pago en la tabla considerando la regla 2 anterior.\"\"\"\n",
    "PAGOS_TO_INSERT = [\n",
    "    Pago(id_contrato=12, id_cliente=99, fecha=datetime(2021,8,5), monto=7000),\n",
    "    Pago(id_contrato=12, id_cliente=99, fecha=datetime(2021,8,6), monto=1280),\n",
    "    Pago(id_contrato=12, id_cliente=99, fecha=datetime(2021,8,7), monto=4900),\n",
    "    Pago(id_contrato=12, id_cliente=99, fecha=datetime(2021,8,4), monto=4900)\n",
    "]\n",
    "\n",
    "if __name__ == '__main__':\n",
    "    with Session(engine) as session:\n",
    "        # table = list(session.execute(select(Pago)).scalars().all())\n",
    "        table = list(session.execute(select(Pago)))\n",
    "        for row in table:\n",
    "            print(row)\n",
    "\n",
    "        for _pago in PAGOS_TO_INSERT:\n",
    "            Pago.add_registry(session, _pago)\n",
    "            session.commit()"
   ],
   "metadata": {
    "collapsed": false,
    "pycharm": {
     "name": "#%%\n"
    }
   }
  },
  {
   "cell_type": "code",
   "execution_count": 32,
   "outputs": [],
   "source": [
    "with Session(engine) as session:\n",
    "    found = list(session.execute(\n",
    "    select(Pago).where(\n",
    "        # Pago.id_pago > 4,\n",
    "        Pago.id_contrato == 12,\n",
    "        Pago.activo == True)\n",
    "    ))"
   ],
   "metadata": {
    "collapsed": false,
    "pycharm": {
     "name": "#%%\n"
    }
   }
  },
  {
   "cell_type": "code",
   "execution_count": null,
   "outputs": [],
   "source": [
    "\"\"\"b. Habilitar interfaz de cualquier tipo (web, terminal, etc.) para interactuar con la función descrita en el punto anterior\"\"\"\n",
    "# el archivo fue llamado main.py\n",
    "\"\"\"c. Usar sqlalchemy para modelar la tabla e interactuar con ella (insert, update, select, etc.).\"\"\"\n",
    "# hecho\n",
    "\"\"\"d. Estructura el código de tal manera que sea modular\"\"\"\n",
    "# hecho\n",
    "\"\"\"e. Agrega validaciones y manejo de errores, debe ser a prueba de todo.\"\"\"\n",
    "# hecho"
   ],
   "metadata": {
    "collapsed": false,
    "pycharm": {
     "name": "#%%\n"
    }
   }
  }
 ],
 "metadata": {
  "kernelspec": {
   "display_name": "Python 3",
   "language": "python",
   "name": "python3"
  },
  "language_info": {
   "codemirror_mode": {
    "name": "ipython",
    "version": 2
   },
   "file_extension": ".py",
   "mimetype": "text/x-python",
   "name": "python",
   "nbconvert_exporter": "python",
   "pygments_lexer": "ipython2",
   "version": "2.7.6"
  }
 },
 "nbformat": 4,
 "nbformat_minor": 0
}