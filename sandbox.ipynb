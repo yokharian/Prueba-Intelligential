{
 "cells": [
  {
   "cell_type": "code",
   "execution_count": 139,
   "outputs": [
    {
     "name": "stdout",
     "output_type": "stream",
     "text": [
      "Requirement already satisfied: click in /home/drapaiton/.cache/pypoetry/virtualenvs/pythonproject-voUJLrHI-py3.9/lib/python3.9/site-packages (8.0.1)\r\n",
      "Requirement already satisfied: sqlalchemy in /home/drapaiton/.cache/pypoetry/virtualenvs/pythonproject-voUJLrHI-py3.9/lib/python3.9/site-packages (1.4.22)\r\n",
      "Requirement already satisfied: greenlet!=0.4.17 in /home/drapaiton/.cache/pypoetry/virtualenvs/pythonproject-voUJLrHI-py3.9/lib/python3.9/site-packages (from sqlalchemy) (1.1.0)\r\n",
      "\u001B[33mWARNING: You are using pip version 21.1.2; however, version 21.2.2 is available.\r\n",
      "You should consider upgrading via the '/home/drapaiton/.cache/pypoetry/virtualenvs/pythonproject-voUJLrHI-py3.9/bin/python -m pip install --upgrade pip' command.\u001B[0m\r\n"
     ]
    }
   ],
   "source": [
    "\"\"\"install dependencies\"\"\"\n",
    "!pip install click sqlalchemy"
   ],
   "metadata": {
    "collapsed": false,
    "pycharm": {
     "name": "#%%\n"
    }
   }
  },
  {
   "cell_type": "code",
   "execution_count": 140,
   "metadata": {
    "collapsed": true
   },
   "outputs": [
    {
     "name": "stdout",
     "output_type": "stream",
     "text": [
      "2021-08-05 21:11:11,566 INFO sqlalchemy.engine.Engine BEGIN (implicit)\n",
      "2021-08-05 21:11:11,568 INFO sqlalchemy.engine.Engine \n",
      "CREATE TABLE \"PAGO\" (\n",
      "\tid_pago INTEGER NOT NULL CHECK (typeof(id_pago) = \"integer\"), \n",
      "\tid_contrato INTEGER NOT NULL, \n",
      "\tid_cliente INTEGER NOT NULL, \n",
      "\tfecha DATE NOT NULL, \n",
      "\tmonto FLOAT NOT NULL, \n",
      "\tfecha_registro DATE NOT NULL, \n",
      "\tactivo BOOLEAN NOT NULL, \n",
      "\tPRIMARY KEY (id_pago), \n",
      "\tCHECK (typeof(id_contrato) = \"integer\" & typeof(id_cliente) = \"integer\")\n",
      ")\n",
      "\n",
      "\n",
      "2021-08-05 21:11:11,569 INFO sqlalchemy.engine.Engine [no key 0.00072s] ()\n",
      "2021-08-05 21:11:11,570 INFO sqlalchemy.engine.Engine COMMIT\n"
     ]
    }
   ],
   "source": [
    "\"\"\"create in-memory database\"\"\"\n",
    "from sqlalchemy import (Column, Integer, Boolean, Float, Date, insert, MetaData, Table, create_engine, CheckConstraint)\n",
    "\n",
    "engine = create_engine('sqlite://',echo=True) # in-memory database\n",
    "meta = MetaData()\n",
    "\n",
    "pago = Table('PAGO', meta,\n",
    "    Column('id_pago', Integer,CheckConstraint('typeof(id_pago) = \"integer\"'), primary_key=True, nullable=False),\n",
    "    Column('id_contrato', Integer,nullable=False),\n",
    "    Column('id_cliente', Integer,nullable=False),\n",
    "    CheckConstraint('typeof(id_contrato) = \"integer\" & typeof(id_cliente) = \"integer\"'),\n",
    "\n",
    "    Column('fecha', Date,nullable=False),\n",
    "    Column('monto', Float,nullable=False),\n",
    "    Column('fecha_registro', Date,nullable=False),\n",
    "    Column('activo', Boolean,nullable=False)\n",
    ").create(engine)"
   ]
  },
  {
   "cell_type": "code",
   "execution_count": 141,
   "outputs": [],
   "source": [
    "\"\"\"define ORM functionality\"\"\"\n",
    "from sqlalchemy.orm import declarative_base\n",
    "\n",
    "\n",
    "Base = declarative_base()\n",
    "\n",
    "class Pago(Base):\n",
    "    __tablename__: str = 'PAGO'\n",
    "\n",
    "    # Identificador del pago\n",
    "    id_pago = Column(Integer, nullable=False, primary_key=True, autoincrement = True)\n",
    "    id_contrato = Column(Integer, nullable=False)    # Identificador del contrato\n",
    "    id_cliente = Column(Integer, nullable=False)     # Identificador del cliente\n",
    "    fecha = Column(Date,nullable=False) # Fecha de pago\n",
    "    monto = Column(Float,nullable=False) # Monto del pago\n",
    "    # true si el registro está vigente, false si el registro ya no es válido (eliminado lógico)\n",
    "    activo = Column(Boolean)\n",
    "    fecha_registro = Column(Date) # Fecha de registro del pago\n",
    "\n",
    "    def insert_pago(self,id_pago,id_contrato,id_cliente,fecha,monto,activo,fecha_registro):\n",
    "        return insert(self).values(id_pago=id_pago,id_contrato=id_contrato,id_cliente=id_cliente,fecha=fecha,monto=monto,activo=activo,fecha_registro=fecha_registro)"
   ],
   "metadata": {
    "collapsed": false,
    "pycharm": {
     "name": "#%%\n"
    }
   }
  },
  {
   "cell_type": "code",
   "execution_count": 132,
   "outputs": [
    {
     "name": "stdout",
     "output_type": "stream",
     "text": [
      "2021-08-05 21:05:46,940 INFO sqlalchemy.engine.Engine INSERT INTO \"PAGO\" (id_pago, id_contrato, id_cliente, fecha, monto, activo, fecha_registro) VALUES (?, ?, ?, ?, ?, ?, ?)\n",
      "2021-08-05 21:05:46,942 INFO sqlalchemy.engine.Engine [generated in 0.00180s] ('bbb', 'aa', 3, '2021-08-05', 123.0, 0, '2021-08-05')\n",
      "2021-08-05 21:05:46,943 INFO sqlalchemy.engine.Engine ROLLBACK\n"
     ]
    },
    {
     "ename": "IntegrityError",
     "evalue": "(sqlite3.IntegrityError) datatype mismatch\n[SQL: INSERT INTO \"PAGO\" (id_pago, id_contrato, id_cliente, fecha, monto, activo, fecha_registro) VALUES (?, ?, ?, ?, ?, ?, ?)]\n[parameters: ('bbb', 'aa', 3, '2021-08-05', 123.0, 0, '2021-08-05')]\n(Background on this error at: https://sqlalche.me/e/14/gkpj)",
     "output_type": "error",
     "traceback": [
      "\u001B[0;31m---------------------------------------------------------------------------\u001B[0m",
      "\u001B[0;31mIntegrityError\u001B[0m                            Traceback (most recent call last)",
      "\u001B[0;32m~/.cache/pypoetry/virtualenvs/pythonproject-voUJLrHI-py3.9/lib/python3.9/site-packages/sqlalchemy/engine/base.py\u001B[0m in \u001B[0;36m_execute_context\u001B[0;34m(self, dialect, constructor, statement, parameters, execution_options, *args, **kw)\u001B[0m\n\u001B[1;32m   1770\u001B[0m                 \u001B[0;32mif\u001B[0m \u001B[0;32mnot\u001B[0m \u001B[0mevt_handled\u001B[0m\u001B[0;34m:\u001B[0m\u001B[0;34m\u001B[0m\u001B[0;34m\u001B[0m\u001B[0m\n\u001B[0;32m-> 1771\u001B[0;31m                     self.dialect.do_execute(\n\u001B[0m\u001B[1;32m   1772\u001B[0m                         \u001B[0mcursor\u001B[0m\u001B[0;34m,\u001B[0m \u001B[0mstatement\u001B[0m\u001B[0;34m,\u001B[0m \u001B[0mparameters\u001B[0m\u001B[0;34m,\u001B[0m \u001B[0mcontext\u001B[0m\u001B[0;34m\u001B[0m\u001B[0;34m\u001B[0m\u001B[0m\n",
      "\u001B[0;32m~/.cache/pypoetry/virtualenvs/pythonproject-voUJLrHI-py3.9/lib/python3.9/site-packages/sqlalchemy/engine/default.py\u001B[0m in \u001B[0;36mdo_execute\u001B[0;34m(self, cursor, statement, parameters, context)\u001B[0m\n\u001B[1;32m    716\u001B[0m     \u001B[0;32mdef\u001B[0m \u001B[0mdo_execute\u001B[0m\u001B[0;34m(\u001B[0m\u001B[0mself\u001B[0m\u001B[0;34m,\u001B[0m \u001B[0mcursor\u001B[0m\u001B[0;34m,\u001B[0m \u001B[0mstatement\u001B[0m\u001B[0;34m,\u001B[0m \u001B[0mparameters\u001B[0m\u001B[0;34m,\u001B[0m \u001B[0mcontext\u001B[0m\u001B[0;34m=\u001B[0m\u001B[0;32mNone\u001B[0m\u001B[0;34m)\u001B[0m\u001B[0;34m:\u001B[0m\u001B[0;34m\u001B[0m\u001B[0;34m\u001B[0m\u001B[0m\n\u001B[0;32m--> 717\u001B[0;31m         \u001B[0mcursor\u001B[0m\u001B[0;34m.\u001B[0m\u001B[0mexecute\u001B[0m\u001B[0;34m(\u001B[0m\u001B[0mstatement\u001B[0m\u001B[0;34m,\u001B[0m \u001B[0mparameters\u001B[0m\u001B[0;34m)\u001B[0m\u001B[0;34m\u001B[0m\u001B[0;34m\u001B[0m\u001B[0m\n\u001B[0m\u001B[1;32m    718\u001B[0m \u001B[0;34m\u001B[0m\u001B[0m\n",
      "\u001B[0;31mIntegrityError\u001B[0m: datatype mismatch",
      "\nThe above exception was the direct cause of the following exception:\n",
      "\u001B[0;31mIntegrityError\u001B[0m                            Traceback (most recent call last)",
      "\u001B[0;32m/tmp/ipykernel_50837/1917750736.py\u001B[0m in \u001B[0;36m<module>\u001B[0;34m\u001B[0m\n\u001B[1;32m      1\u001B[0m \u001B[0;32mfrom\u001B[0m \u001B[0mdatetime\u001B[0m \u001B[0;32mimport\u001B[0m \u001B[0mdatetime\u001B[0m \u001B[0;32mas\u001B[0m \u001B[0mDaTe\u001B[0m\u001B[0;34m\u001B[0m\u001B[0;34m\u001B[0m\u001B[0m\n\u001B[1;32m      2\u001B[0m \u001B[0mconn\u001B[0m \u001B[0;34m=\u001B[0m \u001B[0mengine\u001B[0m\u001B[0;34m.\u001B[0m\u001B[0mconnect\u001B[0m\u001B[0;34m(\u001B[0m\u001B[0;34m)\u001B[0m\u001B[0;34m\u001B[0m\u001B[0;34m\u001B[0m\u001B[0m\n\u001B[0;32m----> 3\u001B[0;31m \u001B[0mconn\u001B[0m\u001B[0;34m.\u001B[0m\u001B[0mexecute\u001B[0m\u001B[0;34m(\u001B[0m\u001B[0minsert\u001B[0m\u001B[0;34m(\u001B[0m\u001B[0mPago\u001B[0m\u001B[0;34m)\u001B[0m\u001B[0;34m.\u001B[0m\u001B[0mvalues\u001B[0m\u001B[0;34m(\u001B[0m\u001B[0mid_pago\u001B[0m\u001B[0;34m=\u001B[0m\u001B[0;34m'bbb'\u001B[0m\u001B[0;34m,\u001B[0m\u001B[0mid_contrato\u001B[0m\u001B[0;34m=\u001B[0m\u001B[0;34m'aa'\u001B[0m\u001B[0;34m,\u001B[0m\u001B[0mid_cliente\u001B[0m\u001B[0;34m=\u001B[0m\u001B[0;36m3\u001B[0m\u001B[0;34m,\u001B[0m\u001B[0mfecha\u001B[0m\u001B[0;34m=\u001B[0m\u001B[0mDaTe\u001B[0m\u001B[0;34m.\u001B[0m\u001B[0mnow\u001B[0m\u001B[0;34m(\u001B[0m\u001B[0;34m)\u001B[0m\u001B[0;34m,\u001B[0m\u001B[0mmonto\u001B[0m\u001B[0;34m=\u001B[0m\u001B[0;36m123.0\u001B[0m\u001B[0;34m,\u001B[0m\u001B[0mactivo\u001B[0m\u001B[0;34m=\u001B[0m\u001B[0;32mFalse\u001B[0m\u001B[0;34m,\u001B[0m\u001B[0mfecha_registro\u001B[0m\u001B[0;34m=\u001B[0m\u001B[0mDaTe\u001B[0m\u001B[0;34m.\u001B[0m\u001B[0mnow\u001B[0m\u001B[0;34m(\u001B[0m\u001B[0;34m)\u001B[0m\u001B[0;34m)\u001B[0m\u001B[0;34m)\u001B[0m\u001B[0;34m\u001B[0m\u001B[0;34m\u001B[0m\u001B[0m\n\u001B[0m\u001B[1;32m      4\u001B[0m \u001B[0mlist\u001B[0m\u001B[0;34m(\u001B[0m\u001B[0mconn\u001B[0m\u001B[0;34m.\u001B[0m\u001B[0mexecute\u001B[0m\u001B[0;34m(\u001B[0m\u001B[0mselect\u001B[0m\u001B[0;34m(\u001B[0m\u001B[0mPago\u001B[0m\u001B[0;34m)\u001B[0m\u001B[0;34m)\u001B[0m\u001B[0;34m)\u001B[0m\u001B[0;34m\u001B[0m\u001B[0;34m\u001B[0m\u001B[0m\n\u001B[1;32m      5\u001B[0m \u001B[0;34m\u001B[0m\u001B[0m\n",
      "\u001B[0;32m~/.cache/pypoetry/virtualenvs/pythonproject-voUJLrHI-py3.9/lib/python3.9/site-packages/sqlalchemy/engine/base.py\u001B[0m in \u001B[0;36mexecute\u001B[0;34m(self, statement, *multiparams, **params)\u001B[0m\n\u001B[1;32m   1261\u001B[0m             )\n\u001B[1;32m   1262\u001B[0m         \u001B[0;32melse\u001B[0m\u001B[0;34m:\u001B[0m\u001B[0;34m\u001B[0m\u001B[0;34m\u001B[0m\u001B[0m\n\u001B[0;32m-> 1263\u001B[0;31m             \u001B[0;32mreturn\u001B[0m \u001B[0mmeth\u001B[0m\u001B[0;34m(\u001B[0m\u001B[0mself\u001B[0m\u001B[0;34m,\u001B[0m \u001B[0mmultiparams\u001B[0m\u001B[0;34m,\u001B[0m \u001B[0mparams\u001B[0m\u001B[0;34m,\u001B[0m \u001B[0m_EMPTY_EXECUTION_OPTS\u001B[0m\u001B[0;34m)\u001B[0m\u001B[0;34m\u001B[0m\u001B[0;34m\u001B[0m\u001B[0m\n\u001B[0m\u001B[1;32m   1264\u001B[0m \u001B[0;34m\u001B[0m\u001B[0m\n\u001B[1;32m   1265\u001B[0m     \u001B[0;32mdef\u001B[0m \u001B[0m_execute_function\u001B[0m\u001B[0;34m(\u001B[0m\u001B[0mself\u001B[0m\u001B[0;34m,\u001B[0m \u001B[0mfunc\u001B[0m\u001B[0;34m,\u001B[0m \u001B[0mmultiparams\u001B[0m\u001B[0;34m,\u001B[0m \u001B[0mparams\u001B[0m\u001B[0;34m,\u001B[0m \u001B[0mexecution_options\u001B[0m\u001B[0;34m)\u001B[0m\u001B[0;34m:\u001B[0m\u001B[0;34m\u001B[0m\u001B[0;34m\u001B[0m\u001B[0m\n",
      "\u001B[0;32m~/.cache/pypoetry/virtualenvs/pythonproject-voUJLrHI-py3.9/lib/python3.9/site-packages/sqlalchemy/sql/elements.py\u001B[0m in \u001B[0;36m_execute_on_connection\u001B[0;34m(self, connection, multiparams, params, execution_options, _force)\u001B[0m\n\u001B[1;32m    321\u001B[0m     ):\n\u001B[1;32m    322\u001B[0m         \u001B[0;32mif\u001B[0m \u001B[0m_force\u001B[0m \u001B[0;32mor\u001B[0m \u001B[0mself\u001B[0m\u001B[0;34m.\u001B[0m\u001B[0msupports_execution\u001B[0m\u001B[0;34m:\u001B[0m\u001B[0;34m\u001B[0m\u001B[0;34m\u001B[0m\u001B[0m\n\u001B[0;32m--> 323\u001B[0;31m             return connection._execute_clauseelement(\n\u001B[0m\u001B[1;32m    324\u001B[0m                 \u001B[0mself\u001B[0m\u001B[0;34m,\u001B[0m \u001B[0mmultiparams\u001B[0m\u001B[0;34m,\u001B[0m \u001B[0mparams\u001B[0m\u001B[0;34m,\u001B[0m \u001B[0mexecution_options\u001B[0m\u001B[0;34m\u001B[0m\u001B[0;34m\u001B[0m\u001B[0m\n\u001B[1;32m    325\u001B[0m             )\n",
      "\u001B[0;32m~/.cache/pypoetry/virtualenvs/pythonproject-voUJLrHI-py3.9/lib/python3.9/site-packages/sqlalchemy/engine/base.py\u001B[0m in \u001B[0;36m_execute_clauseelement\u001B[0;34m(self, elem, multiparams, params, execution_options)\u001B[0m\n\u001B[1;32m   1450\u001B[0m             \u001B[0mlinting\u001B[0m\u001B[0;34m=\u001B[0m\u001B[0mself\u001B[0m\u001B[0;34m.\u001B[0m\u001B[0mdialect\u001B[0m\u001B[0;34m.\u001B[0m\u001B[0mcompiler_linting\u001B[0m \u001B[0;34m|\u001B[0m \u001B[0mcompiler\u001B[0m\u001B[0;34m.\u001B[0m\u001B[0mWARN_LINTING\u001B[0m\u001B[0;34m,\u001B[0m\u001B[0;34m\u001B[0m\u001B[0;34m\u001B[0m\u001B[0m\n\u001B[1;32m   1451\u001B[0m         )\n\u001B[0;32m-> 1452\u001B[0;31m         ret = self._execute_context(\n\u001B[0m\u001B[1;32m   1453\u001B[0m             \u001B[0mdialect\u001B[0m\u001B[0;34m,\u001B[0m\u001B[0;34m\u001B[0m\u001B[0;34m\u001B[0m\u001B[0m\n\u001B[1;32m   1454\u001B[0m             \u001B[0mdialect\u001B[0m\u001B[0;34m.\u001B[0m\u001B[0mexecution_ctx_cls\u001B[0m\u001B[0;34m.\u001B[0m\u001B[0m_init_compiled\u001B[0m\u001B[0;34m,\u001B[0m\u001B[0;34m\u001B[0m\u001B[0;34m\u001B[0m\u001B[0m\n",
      "\u001B[0;32m~/.cache/pypoetry/virtualenvs/pythonproject-voUJLrHI-py3.9/lib/python3.9/site-packages/sqlalchemy/engine/base.py\u001B[0m in \u001B[0;36m_execute_context\u001B[0;34m(self, dialect, constructor, statement, parameters, execution_options, *args, **kw)\u001B[0m\n\u001B[1;32m   1812\u001B[0m \u001B[0;34m\u001B[0m\u001B[0m\n\u001B[1;32m   1813\u001B[0m         \u001B[0;32mexcept\u001B[0m \u001B[0mBaseException\u001B[0m \u001B[0;32mas\u001B[0m \u001B[0me\u001B[0m\u001B[0;34m:\u001B[0m\u001B[0;34m\u001B[0m\u001B[0;34m\u001B[0m\u001B[0m\n\u001B[0;32m-> 1814\u001B[0;31m             self._handle_dbapi_exception(\n\u001B[0m\u001B[1;32m   1815\u001B[0m                 \u001B[0me\u001B[0m\u001B[0;34m,\u001B[0m \u001B[0mstatement\u001B[0m\u001B[0;34m,\u001B[0m \u001B[0mparameters\u001B[0m\u001B[0;34m,\u001B[0m \u001B[0mcursor\u001B[0m\u001B[0;34m,\u001B[0m \u001B[0mcontext\u001B[0m\u001B[0;34m\u001B[0m\u001B[0;34m\u001B[0m\u001B[0m\n\u001B[1;32m   1816\u001B[0m             )\n",
      "\u001B[0;32m~/.cache/pypoetry/virtualenvs/pythonproject-voUJLrHI-py3.9/lib/python3.9/site-packages/sqlalchemy/engine/base.py\u001B[0m in \u001B[0;36m_handle_dbapi_exception\u001B[0;34m(self, e, statement, parameters, cursor, context)\u001B[0m\n\u001B[1;32m   1993\u001B[0m                 \u001B[0mutil\u001B[0m\u001B[0;34m.\u001B[0m\u001B[0mraise_\u001B[0m\u001B[0;34m(\u001B[0m\u001B[0mnewraise\u001B[0m\u001B[0;34m,\u001B[0m \u001B[0mwith_traceback\u001B[0m\u001B[0;34m=\u001B[0m\u001B[0mexc_info\u001B[0m\u001B[0;34m[\u001B[0m\u001B[0;36m2\u001B[0m\u001B[0;34m]\u001B[0m\u001B[0;34m,\u001B[0m \u001B[0mfrom_\u001B[0m\u001B[0;34m=\u001B[0m\u001B[0me\u001B[0m\u001B[0;34m)\u001B[0m\u001B[0;34m\u001B[0m\u001B[0;34m\u001B[0m\u001B[0m\n\u001B[1;32m   1994\u001B[0m             \u001B[0;32melif\u001B[0m \u001B[0mshould_wrap\u001B[0m\u001B[0;34m:\u001B[0m\u001B[0;34m\u001B[0m\u001B[0;34m\u001B[0m\u001B[0m\n\u001B[0;32m-> 1995\u001B[0;31m                 util.raise_(\n\u001B[0m\u001B[1;32m   1996\u001B[0m                     \u001B[0msqlalchemy_exception\u001B[0m\u001B[0;34m,\u001B[0m \u001B[0mwith_traceback\u001B[0m\u001B[0;34m=\u001B[0m\u001B[0mexc_info\u001B[0m\u001B[0;34m[\u001B[0m\u001B[0;36m2\u001B[0m\u001B[0;34m]\u001B[0m\u001B[0;34m,\u001B[0m \u001B[0mfrom_\u001B[0m\u001B[0;34m=\u001B[0m\u001B[0me\u001B[0m\u001B[0;34m\u001B[0m\u001B[0;34m\u001B[0m\u001B[0m\n\u001B[1;32m   1997\u001B[0m                 )\n",
      "\u001B[0;32m~/.cache/pypoetry/virtualenvs/pythonproject-voUJLrHI-py3.9/lib/python3.9/site-packages/sqlalchemy/util/compat.py\u001B[0m in \u001B[0;36mraise_\u001B[0;34m(***failed resolving arguments***)\u001B[0m\n\u001B[1;32m    205\u001B[0m \u001B[0;34m\u001B[0m\u001B[0m\n\u001B[1;32m    206\u001B[0m         \u001B[0;32mtry\u001B[0m\u001B[0;34m:\u001B[0m\u001B[0;34m\u001B[0m\u001B[0;34m\u001B[0m\u001B[0m\n\u001B[0;32m--> 207\u001B[0;31m             \u001B[0;32mraise\u001B[0m \u001B[0mexception\u001B[0m\u001B[0;34m\u001B[0m\u001B[0;34m\u001B[0m\u001B[0m\n\u001B[0m\u001B[1;32m    208\u001B[0m         \u001B[0;32mfinally\u001B[0m\u001B[0;34m:\u001B[0m\u001B[0;34m\u001B[0m\u001B[0;34m\u001B[0m\u001B[0m\n\u001B[1;32m    209\u001B[0m             \u001B[0;31m# credit to\u001B[0m\u001B[0;34m\u001B[0m\u001B[0;34m\u001B[0m\u001B[0;34m\u001B[0m\u001B[0m\n",
      "\u001B[0;32m~/.cache/pypoetry/virtualenvs/pythonproject-voUJLrHI-py3.9/lib/python3.9/site-packages/sqlalchemy/engine/base.py\u001B[0m in \u001B[0;36m_execute_context\u001B[0;34m(self, dialect, constructor, statement, parameters, execution_options, *args, **kw)\u001B[0m\n\u001B[1;32m   1769\u001B[0m                             \u001B[0;32mbreak\u001B[0m\u001B[0;34m\u001B[0m\u001B[0;34m\u001B[0m\u001B[0m\n\u001B[1;32m   1770\u001B[0m                 \u001B[0;32mif\u001B[0m \u001B[0;32mnot\u001B[0m \u001B[0mevt_handled\u001B[0m\u001B[0;34m:\u001B[0m\u001B[0;34m\u001B[0m\u001B[0;34m\u001B[0m\u001B[0m\n\u001B[0;32m-> 1771\u001B[0;31m                     self.dialect.do_execute(\n\u001B[0m\u001B[1;32m   1772\u001B[0m                         \u001B[0mcursor\u001B[0m\u001B[0;34m,\u001B[0m \u001B[0mstatement\u001B[0m\u001B[0;34m,\u001B[0m \u001B[0mparameters\u001B[0m\u001B[0;34m,\u001B[0m \u001B[0mcontext\u001B[0m\u001B[0;34m\u001B[0m\u001B[0;34m\u001B[0m\u001B[0m\n\u001B[1;32m   1773\u001B[0m                     )\n",
      "\u001B[0;32m~/.cache/pypoetry/virtualenvs/pythonproject-voUJLrHI-py3.9/lib/python3.9/site-packages/sqlalchemy/engine/default.py\u001B[0m in \u001B[0;36mdo_execute\u001B[0;34m(self, cursor, statement, parameters, context)\u001B[0m\n\u001B[1;32m    715\u001B[0m \u001B[0;34m\u001B[0m\u001B[0m\n\u001B[1;32m    716\u001B[0m     \u001B[0;32mdef\u001B[0m \u001B[0mdo_execute\u001B[0m\u001B[0;34m(\u001B[0m\u001B[0mself\u001B[0m\u001B[0;34m,\u001B[0m \u001B[0mcursor\u001B[0m\u001B[0;34m,\u001B[0m \u001B[0mstatement\u001B[0m\u001B[0;34m,\u001B[0m \u001B[0mparameters\u001B[0m\u001B[0;34m,\u001B[0m \u001B[0mcontext\u001B[0m\u001B[0;34m=\u001B[0m\u001B[0;32mNone\u001B[0m\u001B[0;34m)\u001B[0m\u001B[0;34m:\u001B[0m\u001B[0;34m\u001B[0m\u001B[0;34m\u001B[0m\u001B[0m\n\u001B[0;32m--> 717\u001B[0;31m         \u001B[0mcursor\u001B[0m\u001B[0;34m.\u001B[0m\u001B[0mexecute\u001B[0m\u001B[0;34m(\u001B[0m\u001B[0mstatement\u001B[0m\u001B[0;34m,\u001B[0m \u001B[0mparameters\u001B[0m\u001B[0;34m)\u001B[0m\u001B[0;34m\u001B[0m\u001B[0;34m\u001B[0m\u001B[0m\n\u001B[0m\u001B[1;32m    718\u001B[0m \u001B[0;34m\u001B[0m\u001B[0m\n\u001B[1;32m    719\u001B[0m     \u001B[0;32mdef\u001B[0m \u001B[0mdo_execute_no_params\u001B[0m\u001B[0;34m(\u001B[0m\u001B[0mself\u001B[0m\u001B[0;34m,\u001B[0m \u001B[0mcursor\u001B[0m\u001B[0;34m,\u001B[0m \u001B[0mstatement\u001B[0m\u001B[0;34m,\u001B[0m \u001B[0mcontext\u001B[0m\u001B[0;34m=\u001B[0m\u001B[0;32mNone\u001B[0m\u001B[0;34m)\u001B[0m\u001B[0;34m:\u001B[0m\u001B[0;34m\u001B[0m\u001B[0;34m\u001B[0m\u001B[0m\n",
      "\u001B[0;31mIntegrityError\u001B[0m: (sqlite3.IntegrityError) datatype mismatch\n[SQL: INSERT INTO \"PAGO\" (id_pago, id_contrato, id_cliente, fecha, monto, activo, fecha_registro) VALUES (?, ?, ?, ?, ?, ?, ?)]\n[parameters: ('bbb', 'aa', 3, '2021-08-05', 123.0, 0, '2021-08-05')]\n(Background on this error at: https://sqlalche.me/e/14/gkpj)"
     ]
    }
   ],
   "source": [
    "\"\"\"a. Escribir una función en Python que reciba como parámetro los datos de un pago e inserte el pago en la tabla considerando la regla 2 anterior.\"\"\"\n",
    "conn = engine.connect()\n",
    "Pago.insert_pago()"
   ],
   "metadata": {
    "collapsed": false,
    "pycharm": {
     "name": "#%%\n"
    }
   }
  },
  {
   "cell_type": "code",
   "execution_count": 136,
   "outputs": [
    {
     "data": {
      "text/plain": "'b. Habilitar interfaz de cualquier tipo (web, terminal, etc.) para interactuar con la función descrita en el punto anterior'"
     },
     "execution_count": 136,
     "metadata": {},
     "output_type": "execute_result"
    }
   ],
   "source": [
    "\"\"\"b. Habilitar interfaz de cualquier tipo (web, terminal, etc.) para interactuar con la función descrita en el punto anterior\"\"\"\n",
    "# el archivo fue llamado main.py\n",
    "\"\"\"c. Usar sqlalchemy para modelar la tabla e interactuar con ella (insert, update, select, etc.).\"\"\"\n",
    "# hecho\n",
    "\"\"\"d. Estructura el código de tal manera que sea modular\"\"\"\n",
    "# hecho\n",
    "\"\"\"e. Agrega validaciones y manejo de errores, debe ser a prueba de todo.\"\"\"\n",
    "# hecho\n"
   ],
   "metadata": {
    "collapsed": false,
    "pycharm": {
     "name": "#%%\n"
    }
   }
  }
 ],
 "metadata": {
  "kernelspec": {
   "display_name": "Python 3",
   "language": "python",
   "name": "python3"
  },
  "language_info": {
   "codemirror_mode": {
    "name": "ipython",
    "version": 2
   },
   "file_extension": ".py",
   "mimetype": "text/x-python",
   "name": "python",
   "nbconvert_exporter": "python",
   "pygments_lexer": "ipython2",
   "version": "2.7.6"
  }
 },
 "nbformat": 4,
 "nbformat_minor": 0
}